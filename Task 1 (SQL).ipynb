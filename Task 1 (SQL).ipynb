{
 "cells": [
  {
   "cell_type": "markdown",
   "metadata": {},
   "source": [
    "Припустимо, що ти маєш таблицю `table` із полями `user_id` (анонімний індетификатор користувача) та `metric_value` (значення якоїсь довільної метрики для цього користувача). Як за допомогою SQL-запиту створити гістограму із розміром бінів N?"
   ]
  },
  {
   "cell_type": "markdown",
   "metadata": {},
   "source": [
    "Приймаємо, що N = 100 (можна буде змінити цю змінну)"
   ]
  },
  {
   "cell_type": "code",
   "execution_count": null,
   "metadata": {},
   "outputs": [],
   "source": [
    "WITH bins AS \n",
    "  (SELECT\n",
    "      FLOOR(metric_value/100.00)*100 AS bin_floor,\n",
    "      COUNT(user_id) AS count\n",
    "  FROM table\n",
    "  GROUP BY 1\n",
    "  ORDER BY 1)\n",
    "\n",
    "SELECT\n",
    "  bin_floor,\n",
    "  bin_floor || ' - ' || (bin_floor + 100) AS bin_range,\n",
    "  count\n",
    "FROM bins\n",
    "ORDER BY 1;"
   ]
  }
 ],
 "metadata": {
  "kernelspec": {
   "display_name": "Python 3",
   "language": "python",
   "name": "python3"
  },
  "language_info": {
   "codemirror_mode": {
    "name": "ipython",
    "version": 3
   },
   "file_extension": ".py",
   "mimetype": "text/x-python",
   "name": "python",
   "nbconvert_exporter": "python",
   "pygments_lexer": "ipython3",
   "version": "3.7.6"
  }
 },
 "nbformat": 4,
 "nbformat_minor": 4
}
